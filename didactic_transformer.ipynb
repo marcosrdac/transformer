{
 "cells": [
  {
   "cell_type": "code",
   "execution_count": 17,
   "id": "58f7753a-20a4-4a8e-9628-173554006def",
   "metadata": {},
   "outputs": [],
   "source": [
    "import numpy as np\n",
    "import matplotlib.pyplot as plt\n",
    "import torch\n",
    "from torch.nn import functional as F\n",
    "import pytorch_lightning as pl\n",
    "import tiktoken\n",
    "from pathlib import Path"
   ]
  },
  {
   "cell_type": "code",
   "execution_count": 2,
   "id": "a9e60c8b-67fc-425b-8c18-ecb1aa804b94",
   "metadata": {},
   "outputs": [
    {
     "name": "stdout",
     "output_type": "stream",
     "text": [
      "First Citizen:\n",
      "Before we proceed any further, hear me speak.\n",
      "\n",
      "All:\n",
      "Speak, speak.\n",
      "\n",
      "First Citizen:\n",
      "You\n"
     ]
    }
   ],
   "source": [
    "with open(\"input.txt\") as f:\n",
    "    text = f.read()\n",
    "len(text)\n",
    "print(text[:100])"
   ]
  },
  {
   "cell_type": "code",
   "execution_count": 3,
   "id": "747fc6e0-1c49-41ff-801e-b7bff64d0f0e",
   "metadata": {},
   "outputs": [],
   "source": [
    "chars = sorted(list(set(text)))"
   ]
  },
  {
   "cell_type": "code",
   "execution_count": 4,
   "id": "00383081-dab6-4b55-aa29-acfa14c6cb12",
   "metadata": {},
   "outputs": [
    {
     "data": {
      "text/plain": [
       "'asd'"
      ]
     },
     "execution_count": 4,
     "metadata": {},
     "output_type": "execute_result"
    }
   ],
   "source": [
    "ctoi = {c: i for i, c in enumerate(chars)}\n",
    "itoc = {i: c for c, i in ctoi.items()}\n",
    "\n",
    "encode = lambda s: [ctoi.get(c, ctoi.get(\" \")) for c in s]\n",
    "decode = lambda l: \"\".join([itoc[i] for i in l])\n",
    "\n",
    "decode(encode(\"asd\"))"
   ]
  },
  {
   "cell_type": "code",
   "execution_count": 5,
   "id": "b59bc79b-fadd-42c4-b323-1de3c4c76a32",
   "metadata": {},
   "outputs": [],
   "source": [
    "data = torch.as_tensor(encode(text))"
   ]
  },
  {
   "cell_type": "code",
   "execution_count": 6,
   "id": "27fe4113-e020-4bba-af75-1104f4b2e2cf",
   "metadata": {},
   "outputs": [],
   "source": [
    "n = int(0.9 * len(data))\n",
    "train_data = data[:n]\n",
    "test_data = data[n:]"
   ]
  },
  {
   "cell_type": "code",
   "execution_count": 177,
   "id": "2553d964-59c0-4d57-b082-cafff6858be6",
   "metadata": {},
   "outputs": [],
   "source": [
    "class SequenceDataset(torch.utils.data.Dataset):\n",
    "    def __init__(self, data, block_size=8):\n",
    "        self.data = data\n",
    "        self.block_size = block_size\n",
    "\n",
    "    def __len__(self):\n",
    "        return len(self.data) - block_size\n",
    "\n",
    "    def __getitem__(self, idx):\n",
    "        x = self.data[idx:idx+self.block_size]\n",
    "        y = self.data[idx+1:idx+1+self.block_size]\n",
    "        return x, y"
   ]
  },
  {
   "cell_type": "code",
   "execution_count": 8,
   "id": "017d1aa8-6f1e-492b-aa4f-dc703aad21a4",
   "metadata": {},
   "outputs": [],
   "source": [
    "torch.manual_seed(1337)\n",
    "\n",
    "block_size = 8\n",
    "batch_size = 4\n",
    "vocab_size = len(itoc)\n",
    "\n",
    "train_dataset = SequenceDataset(train_data, block_size=block_size)\n",
    "test_dataset = SequenceDataset(test_data, block_size=block_size)\n",
    "\n",
    "train_loader = torch.utils.data.DataLoader(train_dataset, batch_size=batch_size, shuffle=True)\n",
    "test_loader = torch.utils.data.DataLoader(test_dataset, batch_size=batch_size, shuffle=True)\n",
    "\n",
    "sample = next(iter(train_dataset))\n",
    "batch = next(iter(train_loader))"
   ]
  },
  {
   "cell_type": "code",
   "execution_count": 9,
   "id": "4c3c4bb0-059c-4a60-8642-daf05bc7fcbc",
   "metadata": {},
   "outputs": [],
   "source": [
    "class BigramModel(torch.nn.Module):\n",
    "    \n",
    "    def __init__(self, vocab_size, embedding_size):\n",
    "        super().__init__()\n",
    "        self.token_embedding_table = torch.nn.Embedding(vocab_size, embedding_size)\n",
    "    \n",
    "    def forward(self, idx):\n",
    "        logits = self.token_embedding_table(idx)\n",
    "        return logits\n",
    "    \n",
    "    def generate(self, idx, max_new_tokens):\n",
    "        for _ in range(max_new_tokens):\n",
    "            ys_pred_proba =  self(idx)\n",
    "            ys_pred_proba = ys_pred_proba[:, -1, :]  # last time\n",
    "            ys_pred_proba = F.softmax(ys_pred_proba, dim=-1)\n",
    "            idx_next = torch.multinomial(ys_pred_proba, num_samples=1)\n",
    "            idx = torch.cat([idx, idx_next], dim=1)\n",
    "        return idx"
   ]
  },
  {
   "cell_type": "code",
   "execution_count": 142,
   "id": "0c6a7e67-9fc9-4eb1-8110-8e465ccf6fda",
   "metadata": {},
   "outputs": [],
   "source": [
    "class LanguageModel(pl.LightningModule):\n",
    "    def __init__(self, model, train_dataset, lr=1e-3, batch_size=4):\n",
    "        super().__init__()\n",
    "        self.model = model\n",
    "        self.train_dataset = train_dataset\n",
    "        self.batch_size = batch_size\n",
    "        self.lr = lr\n",
    "        self.save_hyperparameters(ignore=[\"model\"])\n",
    "\n",
    "    def forward(self, x):\n",
    "        return self.model(x)\n",
    "    \n",
    "    def train_dataloader(self):\n",
    "        return torch.utils.data.DataLoader(\n",
    "            self.train_dataset,\n",
    "            batch_size=self.batch_size,\n",
    "            shuffle=True,\n",
    "            drop_last=True,\n",
    "        )\n",
    "\n",
    "    def training_step(self, batch, batch_idx):\n",
    "        X, Y = batch\n",
    "        Y_pred_proba = self.model(X)\n",
    "        loss = F.cross_entropy(\n",
    "            Y_pred_proba.reshape(-1, Y_pred_proba.shape[-1]),\n",
    "            Y.reshape(-1),\n",
    "        )\n",
    "        self.log('train_loss', loss, prog_bar=True)\n",
    "        return loss\n",
    "\n",
    "    def configure_optimizers(self):\n",
    "        optimizer = torch.optim.Adam(self.parameters(), lr=self.lr)\n",
    "        return optimizer"
   ]
  },
  {
   "cell_type": "code",
   "execution_count": 17,
   "id": "a1cd6a8a-f00d-43d6-8c6e-1136558c942b",
   "metadata": {},
   "outputs": [],
   "source": [
    "model = BigramModel(vocab_size, vocab_size)"
   ]
  },
  {
   "cell_type": "code",
   "execution_count": 18,
   "id": "be0d24ee-9358-47c5-9877-f6d51327a54f",
   "metadata": {},
   "outputs": [
    {
     "data": {
      "text/plain": [
       "\"\\nGK.uj,ZgX3&eLHtHHs$ypEfw,wVGT&ZGLGHBky!w$&;JFKKStFZCULUesBGtJdB&AK:k!'zVuidA\\nSNKn'j$mPrqpgzBJyP,B;OCUwg HAhRwn,UMdDHHUzOTrH$'3G:PY;?$DT\\nuufjOBlyBRwTNBLn&Zb\\n,E-wUiUR3:kES S?LMJ,m\\nY&EkQNbqY!qt;\\niqnPpcTg$IQiQDVYnmND,-:jGlxHhyQqXjfUmPpLFmfwFnR&e\\np3bqzOIVo3,Um\\nZC$KKSy;okRwT-3EfzsSHwFm:pm:3fhDryB'$v,LKSFjxCJdXidA.$lh fduzZAzwlmHrEjxSjrJtxt;A3xN?czYPy\\nMJbIzTNfA3,EzDaUiZy.MPRSRMlF&n,b&BH&BAlcqZ;Mh RLKEfLF3wpUa$JxmCtsGAnMhEdAD?ts;\\nPGD!c;zOyeV-l-PpPcEtIqlmYdBrI iMYLBYJCIcH!cIl,yPH f3$oagEpKveY3,CJt;d\\no!umPtQD;Y?.e\\nbJ,Uao,XEjxO.M.iMfOOsVldArIwzCMhFnWvI-SBejxkZgk.VoO?FczZanyBJ IjhPwrmEtGNc   ODOR;YON,lSOhKD.;Y?-lebAY:M'zYSDe:erDkcGTvR F khTuEfA$'I!,?m!;kE-3bjLKcSBH&SI.rquHxJbGMMPMOopA.;R\\n,GBpzYnW\\nCIQ-Oyg-xqOY;D,VNVLFkJctoE,UocomCQG!cZge\\naSZVrV\\nOD,CoHnBPpTuXLC'UQ$smUpb TJTrdWlELKSjxzr:\\npH\\nKTO\\nV;IVZglmkgCiP'znPE\\nJ$psOhDOlFzwoV\\naZLKRFeRw'$aMlKIKLKSlmNK\\nbGao'hPmHQK?NikH$H MXHQ\\n$lmko\\nr-PpKKaL\\nr!cks?naQ?NwpKUbcS;sdoS:i\\nKrcWDafDm-vMDsKYF JOIduYNiqBdkydkULMQzAtyeLGKv\\nacS;JyJU$kEHJ?O;-U&ZqS;'.fAD3,zDwCUvIl\""
      ]
     },
     "execution_count": 18,
     "metadata": {},
     "output_type": "execute_result"
    }
   ],
   "source": [
    "idx = torch.zeros((1, 1), dtype=torch.long)\n",
    "decode(model.generate(idx, max_new_tokens=1000)[0].tolist())"
   ]
  },
  {
   "cell_type": "code",
   "execution_count": 19,
   "id": "0eab2316-df19-4e80-a52f-92fbc137bd5f",
   "metadata": {},
   "outputs": [],
   "source": [
    "pl_model = LanguageModel(model, train_dataset=train_dataset, batch_size=32)"
   ]
  },
  {
   "cell_type": "code",
   "execution_count": 20,
   "id": "1cebdc98-2849-48b7-8e97-37f08d0eacef",
   "metadata": {},
   "outputs": [
    {
     "name": "stderr",
     "output_type": "stream",
     "text": [
      "/home/marcosrdac/.conda/lib/python3.9/site-packages/pytorch_lightning/core/module.py:423: You are trying to `self.log()` but the `self.trainer` reference is not registered on the model yet. This is most likely because the model hasn't been passed to the `Trainer`\n"
     ]
    },
    {
     "data": {
      "text/plain": [
       "tensor(4.7994, grad_fn=<NllLossBackward0>)"
      ]
     },
     "execution_count": 20,
     "metadata": {},
     "output_type": "execute_result"
    }
   ],
   "source": [
    "pl_model.training_step(batch, 0)"
   ]
  },
  {
   "cell_type": "code",
   "execution_count": 27,
   "id": "b138c206-553a-431f-8372-19634d19b499",
   "metadata": {},
   "outputs": [
    {
     "name": "stderr",
     "output_type": "stream",
     "text": [
      "GPU available: False, used: False\n",
      "TPU available: False, using: 0 TPU cores\n",
      "IPU available: False, using: 0 IPUs\n",
      "HPU available: False, using: 0 HPUs\n",
      "\n",
      "  | Name  | Type        | Params\n",
      "--------------------------------------\n",
      "0 | model | BigramModel | 4.2 K \n",
      "--------------------------------------\n",
      "4.2 K     Trainable params\n",
      "0         Non-trainable params\n",
      "4.2 K     Total params\n",
      "0.017     Total estimated model params size (MB)\n"
     ]
    },
    {
     "data": {
      "application/json": {
       "ascii": false,
       "bar_format": "{l_bar}{bar}| {n_fmt}/{total_fmt} [{elapsed}<{remaining}, {rate_noinv_fmt}{postfix}]",
       "colour": null,
       "elapsed": 0.011206626892089844,
       "initial": 0,
       "n": 0,
       "ncols": 58,
       "nrows": 23,
       "postfix": null,
       "prefix": "Training",
       "rate": null,
       "total": null,
       "unit": "it",
       "unit_divisor": 1000,
       "unit_scale": false
      },
      "application/vnd.jupyter.widget-view+json": {
       "model_id": "ba8d107059e249648e54d3c866bb6aab",
       "version_major": 2,
       "version_minor": 0
      },
      "text/plain": [
       "Training: |                         | 0/? [00:00<?, ?it/s]"
      ]
     },
     "metadata": {},
     "output_type": "display_data"
    },
    {
     "name": "stderr",
     "output_type": "stream",
     "text": [
      "`Trainer.fit` stopped: `max_epochs=10` reached.\n"
     ]
    }
   ],
   "source": [
    "trainer = pl.Trainer(max_epochs=10, limit_train_batches=1000)\n",
    "trainer.fit(pl_model)"
   ]
  },
  {
   "cell_type": "code",
   "execution_count": null,
   "id": "b85faa1b-ad4a-4fdc-9bec-bb39262eacfb",
   "metadata": {},
   "outputs": [],
   "source": [
    "idx = torch.zeros((1, 1), dtype=torch.long)\n",
    "print(decode(model.generate(idx, max_new_tokens=200)[0].tolist()))"
   ]
  },
  {
   "cell_type": "markdown",
   "id": "c3db3d26-b92f-4d4a-9af6-44d9a08b2cef",
   "metadata": {},
   "source": [
    "Now we want some additions:"
   ]
  },
  {
   "cell_type": "markdown",
   "id": "7d260909-dec4-40f6-8904-b454684b1cc2",
   "metadata": {},
   "source": [
    "Instead of predicting just based on the previous token, we want to **predict based on** a **context** of past tokens."
   ]
  },
  {
   "cell_type": "markdown",
   "id": "2d13090a-8bf7-4465-91e6-da82c54e256c",
   "metadata": {},
   "source": [
    "One way to achive this we do a little trick: instead of predicting based on the previous token embedding, we will use the **average** of the past token embeddings. There we have a kind of context!"
   ]
  },
  {
   "cell_type": "code",
   "execution_count": null,
   "id": "05c0ad01-794f-43fa-ad06-587853c184a0",
   "metadata": {},
   "outputs": [],
   "source": [
    "torch.manual_seed(3)\n",
    "batch_size = 6\n",
    "context_size = 8\n",
    "embedding_dim = 3"
   ]
  },
  {
   "cell_type": "code",
   "execution_count": null,
   "id": "b8b0dcad-bd32-47aa-9e32-37d44a6a572a",
   "metadata": {},
   "outputs": [
    {
     "data": {
      "text/plain": [
       "<matplotlib.image.AxesImage at 0x7f28d3497d90>"
      ]
     },
     "execution_count": 13,
     "metadata": {},
     "output_type": "execute_result"
    },
    {
     "data": {
      "image/png": "[encoded data removed]",
      "text/plain": [
       "<Figure size 640x480 with 1 Axes>"
      ]
     },
     "metadata": {},
     "output_type": "display_data"
    }
   ],
   "source": [
    "x = torch.rand(batch_size, context_size, embedding_dim)\n",
    "plt.imshow(x)"
   ]
  },
  {
   "cell_type": "code",
   "execution_count": null,
   "id": "689da3a4-55af-409e-aa9f-3a6a4636feea",
   "metadata": {},
   "outputs": [
    {
     "data": {
      "text/plain": [
       "<matplotlib.colorbar.Colorbar at 0x7f28d068de50>"
      ]
     },
     "execution_count": 14,
     "metadata": {},
     "output_type": "execute_result"
    },
    {
     "data": {
      "image/png": "[encoded data removed]",
      "text/plain": [
       "<Figure size 640x480 with 2 Axes>"
      ]
     },
     "metadata": {},
     "output_type": "display_data"
    }
   ],
   "source": [
    "weights = torch.tril(torch.ones(context_size, context_size))\n",
    "weights /= weights.sum(dim=1)[:, None]\n",
    "plt.imshow(weights, cmap=\"gray\")\n",
    "plt.colorbar()"
   ]
  },
  {
   "cell_type": "code",
   "execution_count": null,
   "id": "f4d2d214-4b72-49b5-8146-0b0a2464fe25",
   "metadata": {},
   "outputs": [
    {
     "data": {
      "text/plain": [
       "<matplotlib.image.AxesImage at 0x7f28d062f850>"
      ]
     },
     "execution_count": 15,
     "metadata": {},
     "output_type": "execute_result"
    },
    {
     "data": {
      "image/png": "[encoded data removed]",
      "text/plain": [
       "<Figure size 640x480 with 1 Axes>"
      ]
     },
     "metadata": {},
     "output_type": "display_data"
    }
   ],
   "source": [
    "context = weights[None, :] @ x\n",
    "plt.imshow(context)"
   ]
  },
  {
   "cell_type": "markdown",
   "id": "d6966bb3-e165-42ab-99a9-0aa8669e9d8a",
   "metadata": {},
   "source": [
    "Now every token is transformed into its context until now!"
   ]
  },
  {
   "cell_type": "code",
   "execution_count": 26,
   "id": "d0c23092-673e-4b0a-b31d-73e8354985a3",
   "metadata": {},
   "outputs": [],
   "source": [
    "class BigramModel(torch.nn.Module):\n",
    "    \n",
    "    def __init__(self, vocab_size, embedding_size):\n",
    "        super().__init__()\n",
    "        self.token_embedder = torch.nn.Embedding(vocab_size, embedding_size)\n",
    "        self.linear_head = torch.nn.Linear(embedding_size, vocab_size)\n",
    "    \n",
    "    def forward(self, idx):\n",
    "        token_embeddings = self.token_embedder(idx)\n",
    "        x = token_embeddings\n",
    "        \n",
    "        w = torch.tril(torch.ones(x.shape[1], x.shape[1]))\n",
    "        w /= w.sum(dim=1)[:, None]\n",
    "        x = w[None, ...] @ x\n",
    "\n",
    "        y_pred_proba = self.linear_head(x)\n",
    "        return y_pred_proba\n",
    "    \n",
    "    def generate(self, idx, max_new_tokens):\n",
    "        for _ in range(max_new_tokens):\n",
    "            Y_pred_proba =  self(idx)\n",
    "            Y_pred_proba = Y_pred_proba[:, -1, :]  # last time\n",
    "            Y_pred_proba = F.softmax(Y_pred_proba, dim=-1)\n",
    "            idx_next = torch.multinomial(Y_pred_proba, num_samples=1)\n",
    "            idx = torch.cat([idx, idx_next], dim=1)\n",
    "        return idx"
   ]
  },
  {
   "cell_type": "code",
   "execution_count": 27,
   "id": "6dd16edc-a63a-48ed-8914-75244d8cec12",
   "metadata": {},
   "outputs": [],
   "source": [
    "model = BigramModel(vocab_size, vocab_size)"
   ]
  },
  {
   "cell_type": "markdown",
   "id": "7ba66f10-75bf-4e31-be4e-fb39e8b3d48d",
   "metadata": {},
   "source": [
    "to have a context for all the past tokens related to it, and no information from the future tokens."
   ]
  },
  {
   "cell_type": "code",
   "execution_count": 29,
   "id": "e971cf24-2378-4075-80cc-a02e55b82a90",
   "metadata": {},
   "outputs": [
    {
     "name": "stderr",
     "output_type": "stream",
     "text": [
      "/home/marcosrdac/.conda/lib/python3.9/site-packages/pytorch_lightning/core/module.py:423: You are trying to `self.log()` but the `self.trainer` reference is not registered on the model yet. This is most likely because the model hasn't been passed to the `Trainer`\n"
     ]
    },
    {
     "data": {
      "text/plain": [
       "tensor(4.1730, grad_fn=<NllLossBackward0>)"
      ]
     },
     "execution_count": 29,
     "metadata": {},
     "output_type": "execute_result"
    }
   ],
   "source": [
    "pl_model = LanguageModel(model, train_dataset=train_dataset, batch_size=32)\n",
    "pl_model.training_step(batch, 0)"
   ]
  },
  {
   "cell_type": "code",
   "execution_count": 168,
   "id": "d3079632-7666-4be3-a39c-1890fc32a767",
   "metadata": {},
   "outputs": [
    {
     "name": "stderr",
     "output_type": "stream",
     "text": [
      "GPU available: False, used: False\n",
      "TPU available: False, using: 0 TPU cores\n",
      "IPU available: False, using: 0 IPUs\n",
      "HPU available: False, using: 0 HPUs\n",
      "\n",
      "  | Name  | Type        | Params\n",
      "--------------------------------------\n",
      "0 | model | BigramModel | 8.5 K \n",
      "--------------------------------------\n",
      "8.5 K     Trainable params\n",
      "0         Non-trainable params\n",
      "8.5 K     Total params\n",
      "0.034     Total estimated model params size (MB)\n"
     ]
    },
    {
     "data": {
      "application/json": {
       "ascii": false,
       "bar_format": "{l_bar}{bar}| {n_fmt}/{total_fmt} [{elapsed}<{remaining}, {rate_noinv_fmt}{postfix}]",
       "colour": null,
       "elapsed": 0.01120305061340332,
       "initial": 0,
       "n": 0,
       "ncols": 56,
       "nrows": 21,
       "postfix": null,
       "prefix": "Training",
       "rate": null,
       "total": null,
       "unit": "it",
       "unit_divisor": 1000,
       "unit_scale": false
      },
      "application/vnd.jupyter.widget-view+json": {
       "model_id": "538a8d7cc3ab4527bd720297492f2e90",
       "version_major": 2,
       "version_minor": 0
      },
      "text/plain": [
       "Training: |                       | 0/? [00:00<?, ?it/s]"
      ]
     },
     "metadata": {},
     "output_type": "display_data"
    },
    {
     "name": "stderr",
     "output_type": "stream",
     "text": [
      "\n",
      "KeyboardInterrupt\n",
      "\n"
     ]
    }
   ],
   "source": [
    "trainer = pl.Trainer(max_epochs=10, limit_train_batches=1000)\n",
    "trainer.fit(pl_model)"
   ]
  },
  {
   "cell_type": "code",
   "execution_count": 169,
   "id": "1024274b-0137-43a6-83ac-033b803609c8",
   "metadata": {},
   "outputs": [
    {
     "name": "stdout",
     "output_type": "stream",
     "text": [
      "\n",
      "USESLTEO::rM hOnh:,W p\n",
      "Au  xNnfe F\n",
      "ndEy\n",
      "\n",
      " a\n",
      "Ootav \n",
      "hhhMloIoM\n",
      "sane\n",
      "  rpeMGvl romeo dvy yes'ohlliamwnecoorue' uairtf dioa  Lwagt a\n",
      "attl shprmocy,rp bo?c o  do,tAthieaoeo sifsetame!farlagursipeer\n",
      "seaa  !e Bbc;i reult'utr ogvr tym tloh reonobsmasRmhtS,yr  hJkih H ahnwut mWeituht obh  nobns  sBacuRC  yaasl  y\n",
      " m atfnyl aru tem tzoide,uc tpreraehne!    rsnhutchamailg,oorGhy \n",
      "tt\n",
      "oic?eohehlietWh\n",
      "ehmmsh ugm-edaat rd ht ykleImonabeionsw,: ta  di!ad er llWpehVsTsIeep uetieutt  sgs eehcf prCt'i s\n",
      "ao tead u \n"
     ]
    }
   ],
   "source": [
    "idx = torch.zeros((1, 1), dtype=torch.long)\n",
    "print(decode(model.generate(idx, max_new_tokens=500)[0].tolist()))"
   ]
  },
  {
   "cell_type": "markdown",
   "id": "d6534a76-1485-4f2c-887f-004ce7129130",
   "metadata": {},
   "source": [
    "## Self-attention"
   ]
  },
  {
   "cell_type": "markdown",
   "id": "7cc044ea-7e79-4642-9374-10730bb1d85d",
   "metadata": {},
   "source": [
    "Attention gives us weighted average of previous embeddings for each token (context), but the weights are based on previous data itself. This is not common!\n",
    "\n",
    "This not only gives a token embedding valuable context, but...\n",
    "\n",
    "It is already a non-linearity!\n",
    "\n",
    "Here is how it works:\n",
    "\n",
    "$x := embeddings$\n",
    "\n",
    "$k = key(x)$\n",
    "\n",
    "$q = query(x)$\n",
    "\n",
    "$v = value(x)$\n",
    "\n",
    "$w = q @ k^T$\n",
    "\n",
    "$w = norm(w)$\n",
    "\n",
    "$out = w @ v$\n",
    "\n",
    "The weights are not given as a the output of some linear layer. They are a linear combination of data x data. It is as non-linear as $cxy$ in the following polynomial:\n",
    "\n",
    "$p(x,y) = ax + by + cxy + d$ (2nd degree polynomial!)\n",
    "\n",
    "In fact, when we apply w to v it is another non-linear degree.\n",
    "\n",
    "That is exactly why weights have to be normalized, because they they end up with magnitude of data**2."
   ]
  },
  {
   "cell_type": "code",
   "execution_count": 148,
   "id": "607e6299-0f40-4ade-9ff4-dfcf8b42a0f0",
   "metadata": {},
   "outputs": [],
   "source": [
    "class BigramModel(torch.nn.Module):\n",
    "    \n",
    "    def __init__(self, vocab_size, embedding_size, head_size, block_size):\n",
    "        super().__init__()\n",
    "        self.token_embedder = torch.nn.Embedding(vocab_size, embedding_size)\n",
    "        self.linear_head = torch.nn.Linear(head_size, vocab_size)\n",
    "        # self.register_buffer(\"tril\", torch.tril(block_size, block_size))\n",
    "        self.key = torch.nn.Linear(embedding_size, head_size, bias=False)\n",
    "        self.query = torch.nn.Linear(embedding_size, head_size, bias=False)\n",
    "        self.value = torch.nn.Linear(embedding_size, head_size, bias=False)\n",
    "        \n",
    "    def forward(self, idx):\n",
    "        token_embeddings = self.token_embedder(idx)\n",
    "        x = token_embeddings\n",
    "        \n",
    "        # self-attention mechanism start\n",
    "        k = self.key(x)\n",
    "        q = self.query(x)\n",
    "        w = q @ k.transpose(-1, -2)\n",
    "        w = w / k.shape[-1] ** 0.5\n",
    "                \n",
    "        tril = torch.tril(torch.ones(w.shape[-1], w.shape[-1]))\n",
    "        w = w.masked_fill(tril==0, -torch.inf)\n",
    "        w = F.softmax(w, dim=-1)\n",
    "        \n",
    "        v = self.value(x)\n",
    "        x = w @ v\n",
    "        # self-attention mechanism end\n",
    "        \n",
    "        y_pred_proba = self.linear_head(x)\n",
    "        return y_pred_proba\n",
    "    \n",
    "    def generate(self, idx, max_new_tokens):\n",
    "        for _ in range(max_new_tokens):\n",
    "            Y_pred_proba =  self(idx)\n",
    "            Y_pred_proba = Y_pred_proba[:, -1, :]  # last time\n",
    "            Y_pred_proba = F.softmax(Y_pred_proba, dim=-1)\n",
    "            idx_next = torch.multinomial(Y_pred_proba, num_samples=1)\n",
    "            idx = torch.cat([idx, idx_next], dim=1)\n",
    "        return idx"
   ]
  },
  {
   "cell_type": "code",
   "execution_count": 149,
   "id": "3d0a94aa-5ece-4f6e-8f5b-715c22030c9b",
   "metadata": {},
   "outputs": [],
   "source": [
    "head_size = 16\n",
    "embedding_size = 32\n",
    "block_size = 8\n",
    "model = BigramModel(vocab_size, embedding_size, head_size, block_size)"
   ]
  },
  {
   "cell_type": "code",
   "execution_count": 150,
   "id": "66a54a0b-89fe-4682-aaaa-41440ecccdd8",
   "metadata": {},
   "outputs": [
    {
     "data": {
      "text/plain": [
       "tensor(4.1750, grad_fn=<NllLossBackward0>)"
      ]
     },
     "execution_count": 150,
     "metadata": {},
     "output_type": "execute_result"
    }
   ],
   "source": [
    "pl_model = LanguageModel(model, train_dataset=train_dataset, batch_size=32)\n",
    "pl_model.training_step(batch, 0)"
   ]
  },
  {
   "cell_type": "code",
   "execution_count": null,
   "id": "1af6e719-5f7e-48de-8a9e-08a2d93323db",
   "metadata": {},
   "outputs": [],
   "source": [
    "trainer = pl.Trainer(max_epochs=10, limit_train_batches=1000)\n",
    "trainer.fit(pl_model)"
   ]
  },
  {
   "cell_type": "code",
   "execution_count": null,
   "id": "9db90648-3d5d-423f-ba38-1f1aaae5fff6",
   "metadata": {},
   "outputs": [
    {
     "name": "stdout",
     "output_type": "stream",
     "text": [
      "\n",
      "OHARK:\n",
      "BA:\n",
      "\n",
      "WWhaine wowancy ver curakCKI d wd:\n",
      "Ty pnceam s t asy hisstofer he nd nes st, lr s , uriho athosisu\n",
      "ULile mr re w lousEthme wkinls, ncos\n",
      "C t amor,\n",
      "hy hiree ary gd menof d, cotod hithe gor, torthenlrie fofpad arer, or, le awatifee, f havisthy Ie d l hin aldessur hicounooacrrro nmad fl yormdse y, fe atrychy n hey he\n",
      "S Iren hiicide h thit?Id co acatidif anong\n",
      "Mae tsp st\n",
      ":ot r sothe uof tp ond le f thagwed, wlr grmis wm, himed! ashos lsunure, m thad me? wimastte nds su beaniminthor tily! \n"
     ]
    }
   ],
   "source": [
    "idx = torch.zeros((1, 1), dtype=torch.long)\n",
    "print(decode(model.generate(idx, max_new_tokens=500)[0].tolist()))"
   ]
  },
  {
   "cell_type": "markdown",
   "id": "5a41f5b1-132c-434b-9843-cadf5dacc74f",
   "metadata": {},
   "source": [
    "Now we can add position information as input to the model, so that we get position"
   ]
  },
  {
   "cell_type": "markdown",
   "id": "33628141-b11a-4242-8e9d-7270b43bf02b",
   "metadata": {},
   "source": [
    "Not better results now. Another important thing in transformer paper is the position embedding. That is: to treat position as data."
   ]
  },
  {
   "cell_type": "code",
   "execution_count": 112,
   "id": "8ae0ece2-4a89-4e19-871a-dae2c3ba257c",
   "metadata": {},
   "outputs": [],
   "source": [
    "class AttentionHead(torch.nn.Module):\n",
    "\n",
    "    def __init__(self, embedding_size, head_size, block_size):\n",
    "        super().__init__()\n",
    "        self.key = torch.nn.Linear(embedding_size, head_size, bias=False)\n",
    "        self.query = torch.nn.Linear(embedding_size, head_size, bias=False)\n",
    "        self.value = torch.nn.Linear(embedding_size, head_size, bias=False)\n",
    "        tril = torch.tril(torch.ones(block_size, block_size))\n",
    "        self.register_buffer(\"tril\", tril)\n",
    "        \n",
    "    def forward(self, x):\n",
    "        steps = x.shape[1]\n",
    "        q = self.query(x)\n",
    "        k = self.key(x)\n",
    "        w = self.get_weights(q, k, steps)\n",
    "        v = self.value(x)\n",
    "        v =  w @ v\n",
    "        return v\n",
    "    \n",
    "    def get_weights(self, q, k, steps):\n",
    "        w = q @ k.transpose(-1, -2)\n",
    "        w = w / k.shape[-1] ** 0.5\n",
    "        tril = self.tril[:steps, :steps]\n",
    "        w = w.masked_fill(tril==0, -torch.inf)\n",
    "        w = F.softmax(w, dim=-1)\n",
    "        return w\n",
    "\n",
    "class BigramModel(torch.nn.Module):\n",
    "    \n",
    "    def __init__(self, vocab_size, embedding_size, head_size, block_size):\n",
    "        super().__init__()\n",
    "        self.token_embedder = torch.nn.Embedding(vocab_size, embedding_size)\n",
    "        self.position_embedder = torch.nn.Embedding(block_size, embedding_size)\n",
    "        self.attention_head = AttentionHead(embedding_size, head_size, block_size)\n",
    "        self.linear_head = torch.nn.Linear(head_size, vocab_size)\n",
    "    \n",
    "    def forward(self, idx):\n",
    "        token_embeddings = self.token_embedder(idx)\n",
    "        \n",
    "        position = torch.arange(idx.shape[1])\n",
    "        position_embeddings = self.position_embedder(position)\n",
    "\n",
    "        x = token_embeddings + position_embeddings\n",
    "        x = self.attention_head(x)\n",
    "        y = self.linear_head(x)\n",
    "        return y\n",
    "    \n",
    "    def generate(self, idx, max_new_tokens):\n",
    "        block_size = self.position_embedder.weight.shape[0]\n",
    "        for _ in range(max_new_tokens):\n",
    "            idx_cond = idx[:, -block_size:]\n",
    "            Y_pred_proba =  self(idx_cond)\n",
    "            Y_pred_proba = Y_pred_proba[:, -1, :]  # last time\n",
    "            Y_pred_proba = F.softmax(Y_pred_proba, dim=-1)\n",
    "            idx_next = torch.multinomial(Y_pred_proba, num_samples=1)\n",
    "            idx = torch.cat([idx, idx_next], dim=1)\n",
    "        return idx"
   ]
  },
  {
   "cell_type": "code",
   "execution_count": 113,
   "id": "ec1b2429-78d3-4a5d-83b8-8772aedc5156",
   "metadata": {},
   "outputs": [],
   "source": [
    "head_size = 16\n",
    "embedding_size = 32\n",
    "block_size = 8\n",
    "model = BigramModel(vocab_size, embedding_size, head_size, block_size)"
   ]
  },
  {
   "cell_type": "code",
   "execution_count": 114,
   "id": "fc7c8e66-a022-444b-889a-01f3c258fcb0",
   "metadata": {},
   "outputs": [
    {
     "name": "stderr",
     "output_type": "stream",
     "text": [
      "/home/marcosrdac/.conda/lib/python3.9/site-packages/pytorch_lightning/core/module.py:423: You are trying to `self.log()` but the `self.trainer` reference is not registered on the model yet. This is most likely because the model hasn't been passed to the `Trainer`\n"
     ]
    },
    {
     "data": {
      "text/plain": [
       "tensor(4.3378, grad_fn=<NllLossBackward0>)"
      ]
     },
     "execution_count": 114,
     "metadata": {},
     "output_type": "execute_result"
    }
   ],
   "source": [
    "pl_model = LanguageModel(model, train_dataset=train_dataset, batch_size=32)\n",
    "pl_model.training_step(batch, 0)"
   ]
  },
  {
   "cell_type": "code",
   "execution_count": 115,
   "id": "4fd6027e-247a-4af7-988b-d7994f5f3946",
   "metadata": {},
   "outputs": [
    {
     "name": "stderr",
     "output_type": "stream",
     "text": [
      "GPU available: False, used: False\n",
      "TPU available: False, using: 0 TPU cores\n",
      "IPU available: False, using: 0 IPUs\n",
      "HPU available: False, using: 0 HPUs\n",
      "\n",
      "  | Name  | Type        | Params\n",
      "--------------------------------------\n",
      "0 | model | BigramModel | 5.0 K \n",
      "--------------------------------------\n",
      "5.0 K     Trainable params\n",
      "0         Non-trainable params\n",
      "5.0 K     Total params\n",
      "0.020     Total estimated model params size (MB)\n",
      "/home/marcosrdac/.conda/lib/python3.9/site-packages/pytorch_lightning/trainer/call.py:54: Detected KeyboardInterrupt, attempting graceful shutdown...\n",
      "\n",
      "KeyboardInterrupt\n",
      "\n"
     ]
    }
   ],
   "source": [
    "pl_model = LanguageModel(model, train_dataset=train_dataset, batch_size=32)\n",
    "trainer = pl.Trainer(max_epochs=10, limit_train_batches=1000, log_every_n_steps=100)\n",
    "trainer.fit(pl_model)"
   ]
  },
  {
   "cell_type": "code",
   "execution_count": 193,
   "id": "6ddb7908-aad5-482b-858a-e17be23115ba",
   "metadata": {},
   "outputs": [
    {
     "name": "stdout",
     "output_type": "stream",
     "text": [
      "\n",
      "Mut re mme othand iaithearnty khe\n",
      "S:\n",
      "Fagouwr, thin mresle t's ogs:\n",
      "The ads gto dt mome thre whart ceart tive anganll ngede ikes:\n",
      "QUEELO:\n",
      "Thealt gt I, lllereeve thod wio yono ng ble.\n",
      "\n",
      "The see:\n",
      "So''s, hiuncicikinmisind, hancoterbu chat sundod fevere;\n",
      "Pll be\n",
      "\n",
      "IFriky he for tis ghe ks lioncro bly,\n",
      "CLY 'ce gpe kpopoerde ifit olain homf wa sury fon undo, ss mod waloto Thingo?\n",
      "Iertridsie ls.\n",
      "\n",
      "Jo ls scoourd anucat tlonour ba?\n",
      "-':\n",
      "Nor tt cive b.\n",
      "\n",
      "OR:\n",
      "Hougn acron gen my ty heexo rtorn kro maca the ilasndr\n"
     ]
    }
   ],
   "source": [
    "idx = torch.zeros((1, 1), dtype=torch.long)\n",
    "print(decode(model.generate(idx, max_new_tokens=500)[0].tolist()))"
   ]
  },
  {
   "cell_type": "code",
   "execution_count": 53,
   "id": "797e712d-3d72-4757-8785-33c69a6561e7",
   "metadata": {},
   "outputs": [],
   "source": [
    "class AttentionHead(torch.nn.Module):\n",
    "\n",
    "    def __init__(self, embedding_size, head_size, block_size):\n",
    "        super().__init__()\n",
    "        self.key = torch.nn.Linear(embedding_size, head_size, bias=False)\n",
    "        self.query = torch.nn.Linear(embedding_size, head_size, bias=False)\n",
    "        self.value = torch.nn.Linear(embedding_size, head_size, bias=False)\n",
    "        tril = torch.tril(torch.ones(block_size, block_size))\n",
    "        self.register_buffer(\"tril\", tril)\n",
    "        \n",
    "    def forward(self, x):\n",
    "        steps = x.shape[1]\n",
    "        q = self.query(x)\n",
    "        k = self.key(x)\n",
    "        w = self.get_weights(q, k, steps)\n",
    "        v = self.value(x)\n",
    "        v =  w @ v\n",
    "        return v\n",
    "    \n",
    "    def get_weights(self, q, k, steps):\n",
    "        w = q @ k.transpose(-1, -2)\n",
    "        w = w / k.shape[-1] ** 0.5\n",
    "        tril = self.tril[:steps, :steps]\n",
    "        w = w.masked_fill(tril==0, -torch.inf)\n",
    "        w = F.softmax(w, dim=-1)\n",
    "        return w\n",
    "    \n",
    "class MultiHeadAttention(torch.nn.Module):\n",
    "    \n",
    "    def __init__(self, embedding_size, head_size, n_heads, block_size):\n",
    "        super().__init__()\n",
    "        self.heads = torch.nn.ModuleList([\n",
    "            AttentionHead(embedding_size, head_size, block_size)\n",
    "            for _ in range(n_heads)\n",
    "        ])\n",
    "        \n",
    "    def forward(self, x):\n",
    "        return torch.cat([h(x) for h in self.heads], dim=-1)\n",
    "\n",
    "class BigramModel(torch.nn.Module):\n",
    "    \n",
    "    def __init__(self, vocab_size, embedding_size, head_size, n_heads, block_size):\n",
    "        super().__init__()\n",
    "        self.token_embedder = torch.nn.Embedding(vocab_size, embedding_size)\n",
    "        self.position_embedder = torch.nn.Embedding(block_size, embedding_size)\n",
    "        self.multi_head_attention = MultiHeadAttention(embedding_size, head_size, n_heads, block_size)\n",
    "        self.linear_head = torch.nn.Linear(head_size*n_heads, vocab_size)\n",
    "        self.register_buffer(\"position\", torch.arange(block_size))\n",
    "        \n",
    "    def forward(self, x):\n",
    "        token_embeddings = self.token_embedder(x)\n",
    "        position_embeddings = self.position_embedder(self.position[:x.shape[1]])\n",
    "        x = token_embeddings + position_embeddings\n",
    "        x = self.multi_head_attention(x)\n",
    "        y = self.linear_head(x)\n",
    "        return y\n",
    "    \n",
    "    def generate(self, idx, max_new_tokens):\n",
    "        block_size = self.position_embedder.weight.shape[0]\n",
    "        for _ in range(max_new_tokens):\n",
    "            idx_cond = idx[:, -block_size:]\n",
    "            Y_pred_proba =  self(idx_cond)\n",
    "            Y_pred_proba = Y_pred_proba[:, -1, :]  # last time\n",
    "            Y_pred_proba = F.softmax(Y_pred_proba, dim=-1)\n",
    "            idx_next = torch.multinomial(Y_pred_proba, num_samples=1)\n",
    "            idx = torch.cat([idx, idx_next], dim=1)\n",
    "        return idx"
   ]
  },
  {
   "cell_type": "code",
   "execution_count": 309,
   "id": "d7c0e6df-5bcd-4d6d-8c56-3d4380e89c2f",
   "metadata": {},
   "outputs": [],
   "source": [
    "embedding_size = 32\n",
    "block_size = 8\n",
    "n_heads = 4\n",
    "head_size = embedding_size // n_heads\n",
    "model = BigramModel(vocab_size, embedding_size, head_size, n_heads, block_size)"
   ]
  },
  {
   "cell_type": "code",
   "execution_count": 310,
   "id": "88825c9f-7f2d-4846-b8c7-be0d3684c574",
   "metadata": {},
   "outputs": [
    {
     "data": {
      "text/plain": [
       "tensor(4.1169, grad_fn=<NllLossBackward0>)"
      ]
     },
     "execution_count": 310,
     "metadata": {},
     "output_type": "execute_result"
    }
   ],
   "source": [
    "pl_model = LanguageModel(model, train_dataset=train_dataset, batch_size=32)\n",
    "pl_model.training_step(batch, 0)"
   ]
  },
  {
   "cell_type": "code",
   "execution_count": 184,
   "id": "77aed2f4-65ec-49b4-b829-3a3eefbf3c4c",
   "metadata": {},
   "outputs": [
    {
     "name": "stderr",
     "output_type": "stream",
     "text": [
      "GPU available: False, used: False\n",
      "TPU available: False, using: 0 TPU cores\n",
      "IPU available: False, using: 0 IPUs\n",
      "HPU available: False, using: 0 HPUs\n",
      "\n",
      "  | Name  | Type        | Params\n",
      "--------------------------------------\n",
      "0 | model | BigramModel | 7.6 K \n",
      "--------------------------------------\n",
      "7.6 K     Trainable params\n",
      "0         Non-trainable params\n",
      "7.6 K     Total params\n",
      "0.030     Total estimated model params size (MB)\n",
      "/home/marcosrdac/.conda/lib/python3.9/site-packages/pytorch_lightning/trainer/call.py:54: Detected KeyboardInterrupt, attempting graceful shutdown...\n",
      "\n",
      "KeyboardInterrupt\n",
      "\n"
     ]
    }
   ],
   "source": [
    "pl_model = LanguageModel(model, train_dataset=train_dataset, batch_size=32)\n",
    "trainer = pl.Trainer(max_epochs=10, limit_train_batches=1000, log_every_n_steps=100)\n",
    "trainer.fit(pl_model)"
   ]
  },
  {
   "cell_type": "code",
   "execution_count": 68,
   "id": "720e145e-ab71-44a3-b648-81db28aa9542",
   "metadata": {},
   "outputs": [
    {
     "name": "stdout",
     "output_type": "stream",
     "text": [
      "\n",
      "ETO'd parrs grat cow\n",
      "BOLI ry what! evey,\n",
      "To onge!\n",
      "Ror' hulland hous,,\n",
      "Haruert.\n",
      "\n",
      "BRB\n",
      "POLAMINCESS:\n",
      "row he,\n",
      "Joncu,\n",
      "Hir\n",
      "INoque of whist Ha now't now ble:\n",
      "E Erhat.\n",
      "\n",
      "No? Yourichey suren your coourngy stherveise gackishe thatdes,\n",
      "Thin.\n",
      "\n",
      "CWAUFEMIS: wi wilhtew'd wead uspe Singon.\n",
      "Whantee net so, men aprt reve ige flis os pored; bent sot heich herir'dd I wha lorr st a dessevernd\n",
      "Andy:\n",
      "That winceng enk whe dos ares micarel.\n",
      "\n",
      "LANRY Pardy: gardescersome ane;\n",
      "youc I:\n",
      "rne cowea,\n",
      "My seer fand rour fighs I your \n"
     ]
    }
   ],
   "source": [
    "idx = torch.zeros((1, 1), dtype=torch.long)\n",
    "print(decode(model.generate(idx, max_new_tokens=500)[0].tolist()))"
   ]
  },
  {
   "cell_type": "code",
   "execution_count": 47,
   "id": "0e42e0f0-57a6-4c4f-ad66-4d12f78195b1",
   "metadata": {},
   "outputs": [],
   "source": [
    "class AttentionHead(torch.nn.Module):\n",
    "\n",
    "    def __init__(self, embedding_size, head_size, block_size, dropout=0.):\n",
    "        super().__init__()\n",
    "        self.key = torch.nn.Linear(embedding_size, head_size, bias=False)\n",
    "        self.query = torch.nn.Linear(embedding_size, head_size, bias=False)\n",
    "        self.value = torch.nn.Linear(embedding_size, head_size, bias=False)\n",
    "        tril = torch.tril(torch.ones(block_size, block_size))\n",
    "        self.register_buffer(\"tril\", tril)\n",
    "        \n",
    "    def forward(self, x):\n",
    "        steps = x.shape[1]\n",
    "        q = self.query(x)\n",
    "        k = self.key(x)\n",
    "        w = self.get_weights(q, k, steps)\n",
    "        w = self.dropout(w)\n",
    "        v = self.value(x)\n",
    "        v =  w @ v\n",
    "        return v\n",
    "    \n",
    "    def get_weights(self, q, k, steps):\n",
    "        w = q @ k.transpose(-1, -2)\n",
    "        w = w / k.shape[-1] ** 0.5\n",
    "        tril = self.tril[:steps, :steps]\n",
    "        w = w.masked_fill(tril==0, -torch.inf)\n",
    "        w = F.softmax(w, dim=-1)\n",
    "        return w\n",
    "    \n",
    "class MultiHeadAttention(torch.nn.Module):\n",
    "    \n",
    "    def __init__(self, embedding_size, head_size, n_heads, block_size, dropout=0):\n",
    "        super().__init__()\n",
    "        self.heads = torch.nn.ModuleList([\n",
    "            AttentionHead(embedding_size, head_size, block_size, dropout)\n",
    "            for _ in range(n_heads)\n",
    "        ])\n",
    "        \n",
    "    def forward(self, x):\n",
    "        return torch.cat([h(x) for h in self.heads], dim=-1)"
   ]
  },
  {
   "cell_type": "code",
   "execution_count": 48,
   "id": "92d46266-d86f-420b-a2ef-9095c6a500f7",
   "metadata": {},
   "outputs": [],
   "source": [
    "class MLP(torch.nn.Module):\n",
    "    def __init__(self, input_size, output_size, hidden_sizes=(), act=torch.nn.ReLU, last_act=None, dropout=0.):\n",
    "        super().__init__()\n",
    "        if last_act is None:\n",
    "            last_act = torch.nn.Identity\n",
    "        sizes = [input_size, *hidden_sizes, output_size]\n",
    "        layers = []\n",
    "        for size_in, size_out in zip(sizes[:-1], sizes[1:]):\n",
    "            layers.append(torch.nn.Linear(size_in, size_out))\n",
    "            layers.append(act() if size_out != output_size else last_act())\n",
    "        self.net = torch.nn.Sequential(*layers[:-1])  # Exclude the last activation\n",
    "        self.dropout = torch.nn.Dropout(dropout)\n",
    "        \n",
    "    def forward(self, x):\n",
    "        x = self.net(x)\n",
    "        x = self.dropout(x)\n",
    "        return x"
   ]
  },
  {
   "cell_type": "code",
   "execution_count": 49,
   "id": "2e5aff46-26f6-430f-9e07-e5485a92d985",
   "metadata": {},
   "outputs": [],
   "source": [
    "class TransformerBlock(torch.nn.Module):\n",
    "    \n",
    "    def __init__(self, embedding_size, n_heads, block_size, ff_hidden_size, dropout=0.):\n",
    "        super().__init__()\n",
    "        assert embedding_size % n_heads == 0\n",
    "        head_size = embedding_size // n_heads\n",
    "        self.self_attention = MultiHeadAttention(embedding_size, head_size, n_heads, block_size)\n",
    "        self.mlp = MLP(embedding_size, embedding_size, hidden_sizes=[ff_hidden_size], dropout=dropout)\n",
    "        self.norm_0 = torch.nn.LayerNorm(embedding_size)\n",
    "        self.norm_1 = torch.nn.LayerNorm(embedding_size)\n",
    "        \n",
    "    def forward(self, x):\n",
    "        # adding residuals, layer norm and droppout\n",
    "        x = x + self.self_attention(self.norm_0(x))\n",
    "        x = x + self.mlp(self.norm_1(x))\n",
    "        return x"
   ]
  },
  {
   "cell_type": "code",
   "execution_count": 144,
   "id": "7f3e75ee-afeb-4c76-b787-e97c72921a27",
   "metadata": {},
   "outputs": [],
   "source": [
    "class BigramModel(torch.nn.Module):\n",
    "    \n",
    "    def __init__(self, vocab_size, embedding_size, n_heads, n_transformer_blocks, block_size, ff_hidden_size=4, dropout=0.):\n",
    "        super().__init__()\n",
    "        self.token_embedder = torch.nn.Embedding(vocab_size, embedding_size)\n",
    "        self.position_embedder = torch.nn.Embedding(block_size, embedding_size)\n",
    "        self.blocks = torch.nn.Sequential(*[\n",
    "            TransformerBlock(embedding_size, n_heads, block_size, ff_hidden_size, dropout=dropout)\n",
    "            for _ in range(n_transformer_blocks)\n",
    "        ])\n",
    "        self.norm = torch.nn.LayerNorm(embedding_size)\n",
    "        self.linear_head = torch.nn.Linear(embedding_size, vocab_size)\n",
    "        self.register_buffer(\"position\", torch.arange(block_size))\n",
    "        \n",
    "    def forward(self, x):\n",
    "        token_embeddings = self.token_embedder(x)\n",
    "        position_embeddings = self.position_embedder(self.position[:x.shape[1]])\n",
    "        x = token_embeddings + position_embeddings\n",
    "        x = self.blocks(x)\n",
    "        x = self.norm(x)\n",
    "        y = self.linear_head(x)\n",
    "        return y\n",
    "    \n",
    "    def generate(self, idx, max_new_tokens):\n",
    "        block_size = self.position_embedder.weight.shape[0]\n",
    "        for _ in range(max_new_tokens):\n",
    "            idx_cond = idx[:, -block_size:]\n",
    "            Y_pred_proba =  self(idx_cond)\n",
    "            Y_pred_proba = Y_pred_proba[:, -1, :]  # last time\n",
    "            Y_pred_proba = F.softmax(Y_pred_proba, dim=-1)\n",
    "            idx_next = torch.multinomial(Y_pred_proba, num_samples=1)\n",
    "            idx = torch.cat([idx, idx_next], dim=1)\n",
    "        return idx"
   ]
  },
  {
   "cell_type": "raw",
   "id": "91b18cf1-bd7f-4faf-ba2c-40fed3919adb",
   "metadata": {},
   "source": [
    "embedding_size = 32\n",
    "block_size = 8\n",
    "n_heads = 4\n",
    "head_size = embedding_size // n_heads\n",
    "n_transformer_blocks = 4\n",
    "ff_hidden_size = 4\n",
    "model = BigramModel(vocab_size, embedding_size, n_heads, n_transformer_blocks, block_size, ff_hidden_size)"
   ]
  },
  {
   "cell_type": "code",
   "execution_count": 360,
   "id": "2235e96b-ec06-4942-be56-d417805fe5ce",
   "metadata": {},
   "outputs": [
    {
     "name": "stderr",
     "output_type": "stream",
     "text": [
      "/home/marcosrdac/.conda/lib/python3.9/site-packages/pytorch_lightning/core/module.py:423: You are trying to `self.log()` but the `self.trainer` reference is not registered on the model yet. This is most likely because the model hasn't been passed to the `Trainer`\n"
     ]
    },
    {
     "data": {
      "text/plain": [
       "tensor(1.6275, grad_fn=<NllLossBackward0>)"
      ]
     },
     "execution_count": 360,
     "metadata": {},
     "output_type": "execute_result"
    }
   ],
   "source": [
    "pl_model = LanguageModel(model, train_dataset=train_dataset, batch_size=32)\n",
    "pl_model.training_step(batch, 0)"
   ]
  },
  {
   "cell_type": "code",
   "execution_count": 361,
   "id": "c27bc09d-4262-403b-a106-a39bfa125892",
   "metadata": {},
   "outputs": [
    {
     "name": "stderr",
     "output_type": "stream",
     "text": [
      "GPU available: False, used: False\n",
      "TPU available: False, using: 0 TPU cores\n",
      "IPU available: False, using: 0 IPUs\n",
      "HPU available: False, using: 0 HPUs\n",
      "\n",
      "  | Name  | Type        | Params\n",
      "--------------------------------------\n",
      "0 | model | BigramModel | 17.9 K\n",
      "--------------------------------------\n",
      "17.9 K    Trainable params\n",
      "0         Non-trainable params\n",
      "17.9 K    Total params\n",
      "0.072     Total estimated model params size (MB)\n",
      "/home/marcosrdac/.conda/lib/python3.9/site-packages/pytorch_lightning/trainer/connectors/data_connector.py:441: The 'train_dataloader' does not have many workers which may be a bottleneck. Consider increasing the value of the `num_workers` argument` to `num_workers=7` in the `DataLoader` to improve performance.\n"
     ]
    },
    {
     "data": {
      "application/json": {
       "ascii": false,
       "bar_format": "{l_bar}{bar}| {n_fmt}/{total_fmt} [{elapsed}<{remaining}, {rate_noinv_fmt}{postfix}]",
       "colour": null,
       "elapsed": 0.010879755020141602,
       "initial": 0,
       "n": 0,
       "ncols": 143,
       "nrows": 37,
       "postfix": null,
       "prefix": "Training",
       "rate": null,
       "total": null,
       "unit": "it",
       "unit_divisor": 1000,
       "unit_scale": false
      },
      "application/vnd.jupyter.widget-view+json": {
       "model_id": "dff5a626ed7f4790b7efc91f7e37d9e2",
       "version_major": 2,
       "version_minor": 0
      },
      "text/plain": [
       "Training: |                                                                                                   …"
      ]
     },
     "metadata": {},
     "output_type": "display_data"
    },
    {
     "name": "stderr",
     "output_type": "stream",
     "text": [
      "/home/marcosrdac/.conda/lib/python3.9/site-packages/pytorch_lightning/trainer/call.py:54: Detected KeyboardInterrupt, attempting graceful shutdown...\n",
      "\n",
      "KeyboardInterrupt\n",
      "\n"
     ]
    }
   ],
   "source": [
    "pl_model = LanguageModel(model, train_dataset=train_dataset, batch_size=32)\n",
    "trainer = pl.Trainer(max_epochs=10, limit_train_batches=1000, log_every_n_steps=100)\n",
    "trainer.fit(pl_model)"
   ]
  },
  {
   "cell_type": "markdown",
   "id": "0a7c3099-3c80-4c71-9c31-481eafee6b2f",
   "metadata": {},
   "source": [
    "batch_norm: normalize (ONLY) the columns of each batch for mean=0 and std=1."
   ]
  },
  {
   "cell_type": "code",
   "execution_count": 362,
   "id": "0a55a892-c809-4759-894f-c174c0527863",
   "metadata": {},
   "outputs": [
    {
     "name": "stdout",
     "output_type": "stream",
     "text": [
      "\n",
      "\n",
      "Arably whe broldove hou'lld heor, hat.\n",
      "\n",
      "Plavave have no oathers but hor e my nat jcme llens aver bam sis't; wil slllok,\n",
      "I:\n",
      "Men sish idees thou wold neand helqly.\n",
      "WAUnd stleenor-':\n",
      "EN with lllaks', Sall vere thout high\n",
      "Mis der theat strotmerr\n",
      "No wreight wre, I noth'd of with hou ghoaghat uthe mex! he gind trean.\n",
      "Fror whow?\n",
      "Wgh founch I this me-pcesss ineste whild:\n",
      "Provioul poour r fourdmt I crout goughe or therd:\n",
      "Gour lad?\n",
      "Se weld haste ssemullfor KINothth conttler his twie ll hooverk; you.\n",
      "MUKI\n"
     ]
    }
   ],
   "source": [
    "idx = torch.zeros((1, 1), dtype=torch.long)\n",
    "print(decode(model.generate(idx, max_new_tokens=500)[0].tolist()))"
   ]
  },
  {
   "cell_type": "code",
   "execution_count": 27,
   "id": "eb8762ec-7dc2-4a28-8615-2919b3731f3d",
   "metadata": {},
   "outputs": [],
   "source": [
    "text_dir = Path(\"~/jrn\").expanduser()\n",
    "text_paths = list(text_dir.glob(\"*.md\"))\n",
    "\n",
    "text = []\n",
    "for path in text_dir.glob(\"*.md\"):\n",
    "    try:\n",
    "        with open(path, \"r\") as f:\n",
    "            text.append(f.read())\n",
    "    except:\n",
    "        pass\n",
    "text = \"\\n\\n\".join(text)"
   ]
  },
  {
   "cell_type": "code",
   "execution_count": 92,
   "id": "0d51f028-f152-4a69-83c1-4b2c7a5f25e3",
   "metadata": {},
   "outputs": [],
   "source": [
    "tokenizer = tiktoken.encoding_for_model(\"gpt-4\")\n",
    "tokens_tiktoken = tokenizer.encode(text)"
   ]
  },
  {
   "cell_type": "code",
   "execution_count": 109,
   "id": "1df663c7-eea2-4e00-b4be-805c81d16701",
   "metadata": {},
   "outputs": [],
   "source": [
    "from sklearn.preprocessing import LabelEncoder\n",
    "unique_tokens = sorted(set(tokens_tiktoken))\n",
    "n_vocab = len(unique_tokens)\n",
    "\n",
    "label_encoder = LabelEncoder()\n",
    "label_encoder.fit(unique_tokens)\n",
    "tokens = label_encoder.transform(tokens_tiktoken)\n",
    "tokens_tiktoken_decoded = label_encoder.inverse_transform(encoded_data)"
   ]
  },
  {
   "cell_type": "code",
   "execution_count": 110,
   "id": "d33400e8-a220-4952-a907-61ad041a6be4",
   "metadata": {},
   "outputs": [],
   "source": [
    "data = torch.as_tensor(tokens)"
   ]
  },
  {
   "cell_type": "code",
   "execution_count": 111,
   "id": "d2f83ec3-f1fe-4114-9fd3-e08b92d2b15f",
   "metadata": {},
   "outputs": [
    {
     "data": {
      "text/plain": [
       "0.2773350736814395"
      ]
     },
     "execution_count": 111,
     "metadata": {},
     "output_type": "execute_result"
    }
   ],
   "source": [
    "len(data)/len(text)"
   ]
  },
  {
   "cell_type": "code",
   "execution_count": 112,
   "id": "e0f5f3db-5d84-4eaa-a09c-e345d29e7d07",
   "metadata": {},
   "outputs": [
    {
     "data": {
      "text/plain": [
       "100277"
      ]
     },
     "execution_count": 112,
     "metadata": {},
     "output_type": "execute_result"
    }
   ],
   "source": [
    "tokenizer.n_vocab"
   ]
  },
  {
   "cell_type": "code",
   "execution_count": 113,
   "id": "a74e7477-e95e-49f1-9ca6-0d4a0c79468f",
   "metadata": {},
   "outputs": [
    {
     "data": {
      "text/plain": [
       "5809"
      ]
     },
     "execution_count": 113,
     "metadata": {},
     "output_type": "execute_result"
    }
   ],
   "source": [
    "len({*tokens})"
   ]
  },
  {
   "cell_type": "code",
   "execution_count": 178,
   "id": "75ab6339-64af-4f8d-bdfa-ca78863871d9",
   "metadata": {},
   "outputs": [],
   "source": [
    "torch.manual_seed(1337)\n",
    "\n",
    "batch_size = 4\n",
    "\n",
    "n = int(0.8 * len(data))\n",
    "train_data = data[:n]\n",
    "test_data = data[n:]\n",
    "\n",
    "train_dataset = SequenceDataset(train_data, block_size=block_size)\n",
    "test_dataset = SequenceDataset(test_data, block_size=block_size)\n",
    "\n",
    "train_loader = torch.utils.data.DataLoader(train_dataset, batch_size=batch_size, shuffle=True)\n",
    "test_loader = torch.utils.data.DataLoader(test_dataset, batch_size=batch_size, shuffle=False)\n",
    "\n",
    "sample = next(iter(train_dataset))\n",
    "batch = next(iter(train_loader))"
   ]
  },
  {
   "cell_type": "code",
   "execution_count": 179,
   "id": "48ede981-bea0-44e0-a3a0-eb43e398133e",
   "metadata": {},
   "outputs": [],
   "source": [
    "batch_size = 4\n",
    "n_heads = 8\n",
    "head_size = 64\n",
    "embedding_size = head_size * n_heads\n",
    "block_size = 32\n",
    "vocab_size = len({*tokens})\n",
    "dropout = 0.4\n",
    "# vocab_size = tokenizer.n_vocab\n",
    "n_transformer_blocks = 4\n",
    "ff_hidden_size = 4\n",
    "model = BigramModel(vocab_size, embedding_size, n_heads, n_transformer_blocks, block_size, ff_hidden_size, dropout=dropout)"
   ]
  },
  {
   "cell_type": "code",
   "execution_count": 180,
   "id": "d0869116-7258-4bef-a474-090c9694d7a7",
   "metadata": {},
   "outputs": [
    {
     "name": "stderr",
     "output_type": "stream",
     "text": [
      "/home/marcosrdac/.conda/lib/python3.9/site-packages/pytorch_lightning/core/module.py:423: You are trying to `self.log()` but the `self.trainer` reference is not registered on the model yet. This is most likely because the model hasn't been passed to the `Trainer`\n"
     ]
    },
    {
     "data": {
      "text/plain": [
       "tensor(8.8694, grad_fn=<NllLossBackward0>)"
      ]
     },
     "execution_count": 180,
     "metadata": {},
     "output_type": "execute_result"
    }
   ],
   "source": [
    "pl_model = LanguageModel(model, train_dataset=train_dataset, batch_size=32)\n",
    "pl_model.training_step(batch, 0)"
   ]
  },
  {
   "cell_type": "code",
   "execution_count": 181,
   "id": "8546747d-fcc2-484d-9e8f-802a06ad59b3",
   "metadata": {},
   "outputs": [],
   "source": [
    "def decode(s):\n",
    "    return tokenizer.decode(label_encoder.inverse_transform(s.tolist()))"
   ]
  },
  {
   "cell_type": "code",
   "execution_count": null,
   "id": "76de0baf-fefc-49bf-941c-a9e381c62a72",
   "metadata": {},
   "outputs": [],
   "source": [
    "idx = torch.zeros((1, 1), dtype=torch.long)\n",
    "print(decode(model.generate(idx, max_new_tokens=20)[0]))"
   ]
  },
  {
   "cell_type": "code",
   "execution_count": null,
   "id": "c74d3186-79ac-4362-ac25-0eac1d1b12d3",
   "metadata": {},
   "outputs": [],
   "source": [
    "pl_model = LanguageModel(model, train_dataset=train_dataset, batch_size=32)\n",
    "trainer = pl.Trainer(max_epochs=10, log_every_n_steps=100, accelerator=\"xla\")\n",
    "trainer.fit(pl_model)"
   ]
  },
  {
   "cell_type": "code",
   "execution_count": 161,
   "id": "8b628cce-c70f-4767-a11d-cfd1c0acb635",
   "metadata": {},
   "outputs": [],
   "source": [
    "model_eval = model.eval()"
   ]
  },
  {
   "cell_type": "code",
   "execution_count": null,
   "id": "daefbab1-c18b-4111-a180-de5f652923ac",
   "metadata": {},
   "outputs": [],
   "source": [
    "idx = torch.zeros((1, 1), dtype=torch.long)\n",
    "print(decode(model_eval.generate(idx, max_new_tokens=100)[0]))"
   ]
  },
  {
   "cell_type": "code",
   "execution_count": 165,
   "id": "c2c3bd53-af9c-4f0f-a92f-a4d5e62e3031",
   "metadata": {},
   "outputs": [],
   "source": [
    "s = \"Meu nome é\""
   ]
  },
  {
   "cell_type": "code",
   "execution_count": 175,
   "id": "fdd0ee4c-3f38-4465-8746-ec545ce342fd",
   "metadata": {},
   "outputs": [],
   "source": [
    "t = torch.as_tensor(encoder.transform(tokenizer.encode(s))[None, :])"
   ]
  },
  {
   "cell_type": "code",
   "execution_count": null,
   "id": "0578c8ac-58f0-4cf5-97ef-8afb75d8a617",
   "metadata": {},
   "outputs": [],
   "source": [
    "print(decode(model_eval.generate(t, max_new_tokens=100)[0]))"
   ]
  },
  {
   "cell_type": "code",
   "execution_count": null,
   "id": "5ff5aa9a-9655-4b54-9ec2-b23c58542a75",
   "metadata": {},
   "outputs": [],
   "source": [
    "class MultiHeadSelfAttention(torch.nn.Module):\n",
    "\n",
    "    def __init__(self, n_embd, n_head, is_causal=False, bias=True, dropout=0.):\n",
    "        super().__init__()\n",
    "        assert n_embd % n_head == 0\n",
    "        self.n_embd = n_embd\n",
    "        self.n_head = n_head\n",
    "        self.head_size = n_embd // n_head\n",
    "        self.is_causal = is_causal\n",
    "        self.qkv = torch.nn.Linear(n_embd, 3*n_embd, bias=bias)\n",
    "        self.projection = torch.nn.Linear(n_embd, n_embd, bias=bias)\n",
    "        # regularization\n",
    "        self.dropout = dropout\n",
    "\n",
    "    def forward(self, x, mask=None):\n",
    "        qkv = self.qkv(x)\n",
    "        q, k, v  = torch.split(qkv, self.n_embd, dim=-1)        \n",
    "        # unpack heads to 2nd dim\n",
    "        k = k.view(*x.shape[:2], self.n_head, self.head_size).transpose(1, 2)\n",
    "        q = q.view(*x.shape[:2], self.n_head, self.head_size).transpose(1, 2)\n",
    "        v = v.view(*x.shape[:2], self.n_head, self.head_size).transpose(1, 2)\n",
    "        \n",
    "        dropout = self.dropout if self.training else 0.\n",
    "        y = F.scaled_dot_product_attention(q, k, v, attn_mask=mask, dropout_p=dropout, is_causal=self.is_causal)        \n",
    "        y = y.transpose(1, 2).contiguous().view(x.shape)\n",
    "        y = self.projection(y)\n",
    "        return y"
   ]
  }
 ],
 "metadata": {
  "kernelspec": {
   "display_name": "Python 3 (ipykernel)",
   "language": "python",
   "name": "python3"
  },
  "language_info": {
   "codemirror_mode": {
    "name": "ipython",
    "version": 3
   },
   "file_extension": ".py",
   "mimetype": "text/x-python",
   "name": "python",
   "nbconvert_exporter": "python",
   "pygments_lexer": "ipython3",
   "version": "3.9.7"
  }
 },
 "nbformat": 4,
 "nbformat_minor": 5
}
